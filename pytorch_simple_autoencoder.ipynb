{
  "nbformat": 4,
  "nbformat_minor": 0,
  "metadata": {
    "colab": {
      "provenance": []
    },
    "kernelspec": {
      "name": "python3",
      "display_name": "Python 3"
    },
    "language_info": {
      "name": "python"
    }
  },
  "cells": [
    {
      "cell_type": "code",
      "source": [
        "import torch\n",
        "from torch import nn\n",
        "from torch.utils.data import DataLoader\n",
        "from torchvision import datasets\n",
        "from torchvision.transforms import ToTensor\n",
        "import matplotlib.pyplot as plt"
      ],
      "metadata": {
        "id": "Wc7DQOL-IuYZ"
      },
      "execution_count": 19,
      "outputs": []
    },
    {
      "cell_type": "code",
      "source": [
        "training_data = datasets.MNIST(\n",
        "    root=\"data\",\n",
        "    train=True,\n",
        "    download=True,\n",
        "    transform=ToTensor(),\n",
        ")\n",
        "\n",
        "test_data = datasets.MNIST(\n",
        "    root=\"data\",\n",
        "    train=False,\n",
        "    download=True,\n",
        "    transform=ToTensor(),\n",
        ")"
      ],
      "metadata": {
        "id": "Ns8oNFsSJ_pa"
      },
      "execution_count": 20,
      "outputs": []
    },
    {
      "cell_type": "code",
      "source": [
        "batch_size = 64\n",
        "\n",
        "train_dataloader = DataLoader(training_data, batch_size=batch_size)\n",
        "test_dataloader = DataLoader(test_data, batch_size=batch_size)\n",
        "\n",
        "for X, y in test_dataloader:\n",
        "    print(f\"Shape of X [N, C, H, W]: {X.shape}\")\n",
        "    print(f\"Shape of y: {y.shape} {y.dtype}\")\n",
        "    break"
      ],
      "metadata": {
        "colab": {
          "base_uri": "https://localhost:8080/"
        },
        "id": "cxVW54kWKYjI",
        "outputId": "723d10ea-f0e2-4f1a-a75e-87ac14390a9e"
      },
      "execution_count": 21,
      "outputs": [
        {
          "output_type": "stream",
          "name": "stdout",
          "text": [
            "Shape of X [N, C, H, W]: torch.Size([64, 1, 28, 28])\n",
            "Shape of y: torch.Size([64]) torch.int64\n"
          ]
        }
      ]
    },
    {
      "cell_type": "code",
      "source": [
        "device = torch.device('cuda' if torch.cuda.is_available() else 'cpu')\n",
        "print(f\"Using {device} device\")\n",
        "\n",
        "class Autoencoder(nn.Module):\n",
        "    def __init__(self):\n",
        "        super().__init__()\n",
        "        self.encoder = nn.Sequential(\n",
        "            nn.Linear(28*28, 512),\n",
        "            nn.ReLU(),\n",
        "            nn.Linear(512, 256),\n",
        "            nn.ReLU(),\n",
        "            nn.Linear(256, 128),\n",
        "            nn.ReLU(),\n",
        "            nn.Linear(128, 49)\n",
        "        )\n",
        "        self.decoder = nn.Sequential(\n",
        "            nn.Linear(49, 128),\n",
        "            nn.ReLU(),\n",
        "            nn.Linear(128, 256),\n",
        "            nn.ReLU(),\n",
        "            nn.Linear(256, 512),\n",
        "            nn.ReLU(),\n",
        "            nn.Linear(512, 28*28),\n",
        "            nn.Sigmoid()\n",
        "        )\n",
        "\n",
        "    def forward(self, x):\n",
        "        x = self.encoder(x)\n",
        "        x = self.decoder(x)\n",
        "        return x\n",
        "\n",
        "model = Autoencoder().to(device)\n",
        "print(model)"
      ],
      "metadata": {
        "colab": {
          "base_uri": "https://localhost:8080/"
        },
        "id": "WBBrRIE5Ky8L",
        "outputId": "587f757c-ce5f-4d0d-c5a9-e919d663802a"
      },
      "execution_count": 22,
      "outputs": [
        {
          "output_type": "stream",
          "name": "stdout",
          "text": [
            "Using cpu device\n",
            "Autoencoder(\n",
            "  (encoder): Sequential(\n",
            "    (0): Linear(in_features=784, out_features=512, bias=True)\n",
            "    (1): ReLU()\n",
            "    (2): Linear(in_features=512, out_features=256, bias=True)\n",
            "    (3): ReLU()\n",
            "    (4): Linear(in_features=256, out_features=128, bias=True)\n",
            "    (5): ReLU()\n",
            "    (6): Linear(in_features=128, out_features=49, bias=True)\n",
            "  )\n",
            "  (decoder): Sequential(\n",
            "    (0): Linear(in_features=49, out_features=128, bias=True)\n",
            "    (1): ReLU()\n",
            "    (2): Linear(in_features=128, out_features=256, bias=True)\n",
            "    (3): ReLU()\n",
            "    (4): Linear(in_features=256, out_features=512, bias=True)\n",
            "    (5): ReLU()\n",
            "    (6): Linear(in_features=512, out_features=784, bias=True)\n",
            "    (7): Sigmoid()\n",
            "  )\n",
            ")\n"
          ]
        }
      ]
    },
    {
      "cell_type": "code",
      "source": [
        "loss_fn = nn.MSELoss()\n",
        "optimizer = torch.optim.Adam(model.parameters(), lr=1e-3)"
      ],
      "metadata": {
        "id": "Zb0McQd4LzOt"
      },
      "execution_count": 23,
      "outputs": []
    },
    {
      "cell_type": "code",
      "source": [
        "def train(dataloader, model, loss_fn, optimizer):\n",
        "    size = len(dataloader.dataset)\n",
        "    model.train()\n",
        "    for batch, (X, y) in enumerate(dataloader):\n",
        "        X, y = X.to(device), y.to(device)\n",
        "\n",
        "        X = X.reshape(-1, 28*28)\n",
        "        pred = model(X)\n",
        "        loss = loss_fn(pred, X)\n",
        "\n",
        "        loss.backward()\n",
        "        optimizer.step()\n",
        "        optimizer.zero_grad()\n",
        "\n",
        "        if batch % 100 == 0:\n",
        "            loss, current = loss.item(), (batch + 1) * len(X)\n",
        "            print(f\"loss: {loss:>7f}  [{current:>5d}/{size:>5d}]\")"
      ],
      "metadata": {
        "id": "x_ROTKOnMda_"
      },
      "execution_count": 24,
      "outputs": []
    },
    {
      "cell_type": "code",
      "source": [
        "epochs = 10\n",
        "for t in range(epochs):\n",
        "    print(f\"Epoch {t+1}\\n-------------------------------\")\n",
        "    train(train_dataloader, model, loss_fn, optimizer)\n",
        "print(\"Done!\")"
      ],
      "metadata": {
        "colab": {
          "base_uri": "https://localhost:8080/"
        },
        "id": "jMEtR4KYOHPo",
        "outputId": "a55f5dc7-b724-4175-93cd-c20f46ffe057"
      },
      "execution_count": 25,
      "outputs": [
        {
          "output_type": "stream",
          "name": "stdout",
          "text": [
            "Epoch 1\n",
            "-------------------------------\n",
            "loss: 0.231428  [   64/60000]\n",
            "loss: 0.066512  [ 6464/60000]\n",
            "loss: 0.053044  [12864/60000]\n",
            "loss: 0.054014  [19264/60000]\n",
            "loss: 0.041925  [25664/60000]\n",
            "loss: 0.039248  [32064/60000]\n",
            "loss: 0.033035  [38464/60000]\n",
            "loss: 0.033695  [44864/60000]\n",
            "loss: 0.031753  [51264/60000]\n",
            "loss: 0.029289  [57664/60000]\n",
            "Epoch 2\n",
            "-------------------------------\n",
            "loss: 0.030560  [   64/60000]\n",
            "loss: 0.029205  [ 6464/60000]\n",
            "loss: 0.026056  [12864/60000]\n",
            "loss: 0.027754  [19264/60000]\n",
            "loss: 0.027127  [25664/60000]\n",
            "loss: 0.025775  [32064/60000]\n",
            "loss: 0.022930  [38464/60000]\n",
            "loss: 0.024183  [44864/60000]\n",
            "loss: 0.022274  [51264/60000]\n",
            "loss: 0.022729  [57664/60000]\n",
            "Epoch 3\n",
            "-------------------------------\n",
            "loss: 0.022962  [   64/60000]\n",
            "loss: 0.020193  [ 6464/60000]\n",
            "loss: 0.019804  [12864/60000]\n",
            "loss: 0.022042  [19264/60000]\n",
            "loss: 0.020823  [25664/60000]\n",
            "loss: 0.020459  [32064/60000]\n",
            "loss: 0.019297  [38464/60000]\n",
            "loss: 0.020017  [44864/60000]\n",
            "loss: 0.017748  [51264/60000]\n",
            "loss: 0.018703  [57664/60000]\n",
            "Epoch 4\n",
            "-------------------------------\n",
            "loss: 0.020202  [   64/60000]\n",
            "loss: 0.016413  [ 6464/60000]\n",
            "loss: 0.016409  [12864/60000]\n",
            "loss: 0.017940  [19264/60000]\n",
            "loss: 0.017060  [25664/60000]\n",
            "loss: 0.017853  [32064/60000]\n",
            "loss: 0.016297  [38464/60000]\n",
            "loss: 0.017461  [44864/60000]\n",
            "loss: 0.014900  [51264/60000]\n",
            "loss: 0.016327  [57664/60000]\n",
            "Epoch 5\n",
            "-------------------------------\n",
            "loss: 0.017460  [   64/60000]\n",
            "loss: 0.014353  [ 6464/60000]\n",
            "loss: 0.014515  [12864/60000]\n",
            "loss: 0.015692  [19264/60000]\n",
            "loss: 0.014826  [25664/60000]\n",
            "loss: 0.015919  [32064/60000]\n",
            "loss: 0.014111  [38464/60000]\n",
            "loss: 0.015299  [44864/60000]\n",
            "loss: 0.013668  [51264/60000]\n",
            "loss: 0.014781  [57664/60000]\n",
            "Epoch 6\n",
            "-------------------------------\n",
            "loss: 0.015331  [   64/60000]\n",
            "loss: 0.012900  [ 6464/60000]\n",
            "loss: 0.013206  [12864/60000]\n",
            "loss: 0.014557  [19264/60000]\n",
            "loss: 0.013502  [25664/60000]\n",
            "loss: 0.015000  [32064/60000]\n",
            "loss: 0.013010  [38464/60000]\n",
            "loss: 0.014018  [44864/60000]\n",
            "loss: 0.012479  [51264/60000]\n",
            "loss: 0.013575  [57664/60000]\n",
            "Epoch 7\n",
            "-------------------------------\n",
            "loss: 0.013717  [   64/60000]\n",
            "loss: 0.011797  [ 6464/60000]\n",
            "loss: 0.012302  [12864/60000]\n",
            "loss: 0.013509  [19264/60000]\n",
            "loss: 0.012589  [25664/60000]\n",
            "loss: 0.014259  [32064/60000]\n",
            "loss: 0.012101  [38464/60000]\n",
            "loss: 0.013302  [44864/60000]\n",
            "loss: 0.011862  [51264/60000]\n",
            "loss: 0.012635  [57664/60000]\n",
            "Epoch 8\n",
            "-------------------------------\n",
            "loss: 0.013200  [   64/60000]\n",
            "loss: 0.011428  [ 6464/60000]\n",
            "loss: 0.011693  [12864/60000]\n",
            "loss: 0.012638  [19264/60000]\n",
            "loss: 0.011734  [25664/60000]\n",
            "loss: 0.013636  [32064/60000]\n",
            "loss: 0.011725  [38464/60000]\n",
            "loss: 0.012781  [44864/60000]\n",
            "loss: 0.011308  [51264/60000]\n",
            "loss: 0.011997  [57664/60000]\n",
            "Epoch 9\n",
            "-------------------------------\n",
            "loss: 0.012817  [   64/60000]\n",
            "loss: 0.010758  [ 6464/60000]\n",
            "loss: 0.011134  [12864/60000]\n",
            "loss: 0.012036  [19264/60000]\n",
            "loss: 0.011328  [25664/60000]\n",
            "loss: 0.013104  [32064/60000]\n",
            "loss: 0.010922  [38464/60000]\n",
            "loss: 0.012173  [44864/60000]\n",
            "loss: 0.010835  [51264/60000]\n",
            "loss: 0.011501  [57664/60000]\n",
            "Epoch 10\n",
            "-------------------------------\n",
            "loss: 0.012050  [   64/60000]\n",
            "loss: 0.010151  [ 6464/60000]\n",
            "loss: 0.010427  [12864/60000]\n",
            "loss: 0.011607  [19264/60000]\n",
            "loss: 0.010916  [25664/60000]\n",
            "loss: 0.012441  [32064/60000]\n",
            "loss: 0.010465  [38464/60000]\n",
            "loss: 0.011501  [44864/60000]\n",
            "loss: 0.010429  [51264/60000]\n",
            "loss: 0.010785  [57664/60000]\n",
            "Done!\n"
          ]
        }
      ]
    },
    {
      "cell_type": "code",
      "source": [
        "results = []\n",
        "\n",
        "for (img, _) in test_dataloader:\n",
        "\n",
        "  img = img.reshape(-1, 28*28)\n",
        "  print(img.shape)\n",
        "  pred = model(img)\n",
        "  results.append((1, img, pred))\n",
        "  break"
      ],
      "metadata": {
        "colab": {
          "base_uri": "https://localhost:8080/"
        },
        "id": "SPgHw0sjQIxK",
        "outputId": "c99e6345-d199-4484-a3d7-2998e1c302b7"
      },
      "execution_count": 26,
      "outputs": [
        {
          "output_type": "stream",
          "name": "stdout",
          "text": [
            "torch.Size([64, 784])\n"
          ]
        }
      ]
    },
    {
      "cell_type": "code",
      "source": [
        "for k in range(0, 1, 4):\n",
        "    plt.figure(figsize=(9, 2))\n",
        "    plt.gray()\n",
        "    imgs = results[k][1].detach().numpy()\n",
        "    recon = results[k][2].detach().numpy()\n",
        "    for i, item in enumerate(imgs):\n",
        "        if i >= 9: break\n",
        "        plt.subplot(2, 9, i+1)\n",
        "        item = item.reshape(-1, 28,28)\n",
        "        # item: 1, 28, 28\n",
        "        plt.imshow(item[0])\n",
        "\n",
        "    for i, item in enumerate(recon):\n",
        "        if i >= 9: break\n",
        "        plt.subplot(2, 9, 9+i+1)\n",
        "        item = item.reshape(-1, 28,28)\n",
        "        # item: 1, 28, 28\n",
        "        plt.imshow(item[0])"
      ],
      "metadata": {
        "colab": {
          "base_uri": "https://localhost:8080/",
          "height": 214
        },
        "id": "OAzUlnMoihyF",
        "outputId": "2c262e25-faf2-4e67-8754-913f80cdcf04"
      },
      "execution_count": 27,
      "outputs": [
        {
          "output_type": "display_data",
          "data": {
            "text/plain": [
              "<Figure size 900x200 with 18 Axes>"
            ],
            "image/png": "[encoded data removed]"
          },
          "metadata": {}
        }
      ]
    }
  ]
}